{
 "cells": [
  {
   "cell_type": "code",
   "execution_count": 11,
   "metadata": {
    "collapsed": true
   },
   "outputs": [
    {
     "name": "stdout",
     "output_type": "stream",
     "text": [
      "['T', 'J', 'R', 'g', 'l', 'v', 'j', 'M', 'd', 28, 'Q', 'Q', 23, 'I', 'T', 'T', 'u', 'n', 'V', 'o', 'f', 'p', 't', 'b', 'N', 'X', 'U', 0, 3, 46, 84, 48, 'S', 'V', 's', 68, 'U', 'y', 'X', 64, 51, 'c', 24, 'P', 68, 'k', 'w', 'J', 'S', 93, 57, 'U', 'r', 'g', 'l', 'D', 's', 80, 'T', 'o', 95, 's', 'O', 'M', 'P', 'n', 'K', 'M', 96, 46, 'M', 70, 'm', 'E', 'E', 'O', 'x', 'P', 's', 'x', 58, 100, 'x', 56, 'f', 'u', 7, 99, 44, 'b', 'I', 39, 97, 'h', 'd', 8, 'a', 'X', 15, 100, 'U', 68, 'T', 'D', 'W', 'u', 5, 'M', 'q', 'I', 64, 'a', 'J', 81, 'V', 19, 'c', 'r', 'j', 'j', 'R', 'A', 'B', 59, 45, 'c', 'z', 't', 'r', 88, 'X', 'c', 'z', 96, 'I', 'S', 15, 91, 'S', 39, 21, 24, 'J', 's', 81, 68, 'j', 'f', 29, 'L', 'D', 43, 'm', 'L', 'z', 31, 'G', 'K', 28, 73, 74, 'f', 'f', 'v', 'z', 37, 53, 2, 54, 'Z', 37, 'Q', 'b', 'D', 'Y', 'z', 25, 25, 'B', 'l', 'b', 'o', 'X', 'f', 'E', 31, 'Y', 'J', 38, 'o', 'S', 50, 'T', 'g', 'j', 70, 'q', 'x', 'p', 8, 72, 'R', 21, 'l', 76, 9, 27, 'Z', 33, 95, 'H', 'Q', 'S', 'E', 'j', 'g', 61, 'k', 24, 'P', 36, 'm', 6, 58, 'A', 25, 'w', 'T', 'M', 'P', 'O', 'E', 49, 7, 'f', 'M', 'j', 100, 14, 76, 'C', 'z', 'z', 'W', 'h', 'G', 15, 'S', 'K', 'W', 's', 'C', 'o', 'Z', 'H', 'E', 63, 'a', 'O', 'o', 71, 'u', 'W', 51, 50, 91, 'i', 'z', 16, 27, 7, 'H', 27, 60, 18, 'X', 40, 'Z', 'E', 'K', 'g', 'U', 'W', 'J', 'u', 'C', 13, 't', 'Z', 'H', 'P', 'H', 89, 'H', 'e', 'V', 'S', 25, 'e', 'e', 'r', 'L', 'F', 6, 'A', 95, 71, 86, 'L', 1, 'n', 'Z', 'm', 'p', 'D', 'b', 'r', 'G', 'Y', 'u', 'G', 'k', 'N', 28, 9, 'K', 39, 't', 67, 'o', 'D', 'w', 49, 'x', 'Q', 72, 'V', 91, 'X', 'l', 12, 'g', 'A', 74, 'A', 'Q', 's', 'E', 'g', 'w', 79, 'F', 17, 'D', 'I', 'e', 38, 45, 73, 29, 'U', 'y', 'I', 70, 85, 42, 94, 't', 'V', 'g', 'y', 'F', 'B', 'E', 'B', 62, 'H', 'p', 38, 'D', 'L', 'C', 'c', 'P', 6, 'D', 69, 'M', 26, 91, 47, 72, 'j', 'R', 'D', 47, 66, 'I', 'P', 'A', 53, 54, 'G', 'h', 56, 'n', 68, 61, 'e', 6, 89, 'r', 'p', 'U', 41, 'r', 'a', 'f', 'C', 'y', 95, 'H', 54, 'T', 'w', 22, 't', 72, 'T', 'P', 63, 21, 'D', 92, 'q', 'R', 'v', 'k', 62, 'y', 'G', 'o', 'V', 'J', 'g', 85, 'y', 'U', 40, 'e', 'L', 90, 'J', 53, 'W', 'b', 94, 'g', 'L', 'S', 'K', 56, 'f', 'E', 'Z', 'I', 20, 'E', 93, 'y', 'p', 'B', 'x', 'n', 7, 45, 'R', 76, 'r', 't', 'r', 'D', 'B', 56, 'P', 'T', 'd', 't', 'J', 'O', 41, 48, 'I', 84, 'o', 'E', 'r', 45, 'Y', 'z', 93, 'o', 23, 'p', 10, 'w', 'b', 44, 68, 'u', 'u', 'Y', 'T', 'T', 91, 'H', 48, 53, 'H', 'V', 'L', 'B', 'E', 'p', 'D', 'r', 'R', 76, 'U', 51, 9, 28, 56, 'G', 69, 3, 'p', 94, 32, 'Y', 57, 'r', 32, 29, 'R', 68, 'H', 'z', 'A', 'D', 35, 'z', 'd', 'Y', 78, 'i', 92, 24, 14, 'e', 99, 'K', 43, 62, 'c', 'g', 'C', 91, 83, 't', 'O', 'w', 'C', 'f', 'F', 74, 'P', 'i', 'X', 'T', 77, 'e', 'W', 25, 86, 68, 96, 'n', 61, 66, 97, 97, 'x', 11, 'g', 't', 'p', 19, 16, 'E', 18, 'l', 'T', 'H', 'C', 100, 'l', 93, 49, 28, 'R', 'k', 'L', 'g', 'a', 22, 'l', 'O', 'E', 10, 'L', 'S', 'o', 'u', 'R', 72, 'q', 'd', 65, 'Y', 'd', 'h', 'G', 'f', 'F', 80, 'l', 'P', 'g', 't', 'e', 'Y', 'x', 'W', 'M', 'H', 'D', 'H', 71, 95, 'B', 'a', 'q', 68, 77, 25, 'L', 23, 's', 'm', 'f', 'W', 9, 'N', 'L', 'F', 'W', 'B', 'r', 'T', 'C', 'Z', 95, 'W', 'W', 'u', 'Z', 'e', 'E', 'N', 50, 30, 42, 'T', 33, 'v', 'I', 31, 'e', 'x', 'd', 69, 'w', 63, 'k', 'G', 'b', 'C', 'H', 75, 'c', 'h', 75, 73, 'p', 'N', 'w', 'o', 44, 'r', 'K', 'c', 'L', 'V', 'd', 'p', 10, 'N', 54, 'p', 41, 'k', 70, 'X', 88, 62, 't', 'n', 91, 85, 'Q', 'D', 70, 8, 'l', 'e', 'L', 'T', 48, 2, 'u', 'J', 'A', 37, 'j', 'e', 65, 'U', 'm', 30, 'w', 96, 't', 'Q', 'g', 'r', 68, 'z', 17, 11, 'A', 'B', 'L', 85, 23, 73, 'X', 'P', 94, 'X', 'o', 'E', 'z', 'V', 's', 72, 28, 'u', 'j', 'f', 'E', 'P', 70, 'u', 78, 'V', 'K', 'C', 'o', 9, 'p', 'T', 'o', 94, 'v', 'g', 'o', 'E', 'l', 50, 77, 'A', 'M', 'k', 64, 'X', 'S', 33, 'j', 'K', 'z', 'A', 'H', 'i', 'R', 40, 45, 11, 'N', 'X', 26, 45, 'I', 100, 65, 'v', 'A', 31, 'f', 'q', 'A', 'h', 94, 83, 27, 91, 'e', 98, 'J', 'Z', 63, 'r', 'd', 'w', 64, 'a', 'G', 'V', 90, 5, 'J', 25, 'L', 'X', 'x', 'S', 'v', 'S', 'd', 'k', 'w', 99, 'o', 61, 12, 78, 'M', 'O', 'g', 39, 'z', 'm', 'L', 'q', 'W', 'S', 72, 79, 12, 83, 'J', 'Y', 14, 78, 'W', 'A', 'v', 89, 'F', 'q', 'E', 'N', 52, 'm', 'E', 'T', 'T', 'q', 'A', 'O', 'O', 's', 'l', 'Q', 'j', 'e', 'X', 'h', 'o', 76, 'H', 's', 'H', 'J', 49, 'O', 82, 'f', 64, 'L', 'D', 87, 20, 'U', 'r', 22, 100, 'u', 'E', 'H', 36, 'P', 'H', 'f', 'C', 'Y', 'T', 's', 82, 41, 'i', 70, 37, 'X', 'F', 'D', 'Z', 12, 'Z', 85, 30, 'K', 'J', 'p', 'O', 20, 'C', 66, 'p', 15, 'z', 72, 'S', 9, 31, 75, 58, 'n', 'K', 'b', 'P', 46, 'k', 'i', 'J', 'g', 82, 'Q', 12, 'g', 'u', 40, 43, 'S', 'V', 'W', 97, 'G', 'L', 's', 't', 'P', 'z', 'X', 22, 72, 'a', 'Y', 'B', 'I', 'y', 'M', 96, 'R', 'X', 40, 75, 'V', 'M', 'a', 4, 64, 35, 'Q', 'K', 'i', 'R', 50, 65, 'R', 77, 'S', 'P', 'F', 't', 36, 84, 'e', 'g', 100, 'R', 58, 'z', 'r', 'l', 20, 99, 's', 36, 'x', 'Y', 68, 'z', 'W', 'V', 'Z', 'Q', 'K', 'j', 11, 'x', 26, 16, 87, 'c', 'B', 'i', 'm', 'J', 'J', 'b', 'H', 'X', 64, 'Z', 80, 55, 'k', 87, 'J', 'o', 16, 'o', 'r', 'W', 'x', 'l', 'F', 54, 'h', 'n', 34, 73, 29, 'Y', 'b', 'r', 'U', 41, 'o', 't', 'F', 'o', 'B', 'R', 'B', 'p', 'x', 'z', 'r', 'y', 'p', 5, 92, 56, 76, 'q', 'B', 'g', 'R', 'R', 70, 'G', 'p', 'z', 'A', 98, 54, 48, 20, 52, 'N', 'Q', 91, 'U', 'E', 'J', 's', 'D', 'n', 'y', 'l', 'y', 'r', 'C', 62, 'A', 'M', 80, 25, 'c', 'l', 18, 'V', 48, 92, 'c', 'P', 'd', 'U', 'q', 'U', 'M', 'G', 'o', 'P', 'r', 'E', 59, 95, 96, 33, 'V', 'V', 'i', 'J', 76, 45, 20, 9, 'v', 90, 75, 'u', 'g', 't', 'A', 'k', 72, 'O', 89, 'A', 82, 'B', 50, 'r', 'c', 47, 96, 'M', 9, 'x', 'h', 61, 'R', 'j', 'V', 'w', 'd', 'o', 'W', 'e', 38, 'L', 'b', 's', 'L', 7, 'w', 'i', 'u', 'Z', 'w', 88, 'R', 'd', 'L', 'I', 13, 'O', 'Q', 13, 'L', 'L', 'w', 'B', 'k', 20, 86, 'K', 41, 86, 'T', 50, 'e', 'Z', 4, 'e', 61, 'f', 'P', 87, 16, 'v', 65, 'I', 'Y', 'g', 'Y', 'w', 'L', 'X', 26, 19, 'e', 'X', 'C', 'd', 'A', 56, 'K', 'l', 'L', 78, 56, 70, 52, 20, 55, 'l', 'x', 'o', 97, 'o', 69, 27, 38, 'k', 'c', 37, 'K', 'N', 'j', 86, 'y', 'm', 3, 'd', 75, 30, 'w', 'f', 'k', 'W', 43, 'q', 'S', 'R', 45, 's', 36, 'A', 60, 'f', 'k', 'D', 'M', 'r', 'D', 'N', 'S', 'w', 'S', 'F', 56, 39, 54, 'I', 'X', 'E', 'd', 'p', 'u', 'B', 98, 's', 'T', 'Q', 'Y', 20, 'J', 50, 'e', 'p', 29, 'S', 'w', 25, 'o', 'P', 'B', 'M', 'v', 86, 'd', 'p', 'C', 8, 61, 'x', 90, 95, 'N', 'h', 'z', 'v', 'g', 89, 's', 'j', 'v', 'R', 'j', 'P', 'd', 'j', 52, 'w', 'e', 'A', 94, 98, 79, 'r', 'z', 'G', 'f', 1, 'e', 'Y', 64, 'C', 't', 'M', 'y', 92, 'I', 4, 90, 'v', 'K', 'p', 77, 'n', 'F', 10, 47, 'C', 'V', 'N', 'Q', 'O', 18, 'R', 'D', 'P', 'm', 'V', 'F', 'U', 'O', 34, 'P', 'j', 'E', 'N', 99, 'M', 'Y', 57, 65, 66, 'f', 'g', 57, 22, 'F', 'O', 'f', 'q', 'H', 'b', 'C', 'J', 'F', 31, 26, 94, 'Z', 64, 'K', 'A', 'k', 'c', 'U', 'x', 63, 36, 'K', 'S', 62, 'i', 'T', 'T', 71, 74, 'V', 'Y', 38, 'd', 46, 29, 'l', 66, 'i', 'P', 34, 'L', 'Y', 79, 81, 'W', 'W', 'S', 'S', 'p', 29, 69, 83, 46, 20, 'P', 'F', 'n', 'W', 'L', 'r', 'R', 'd', 'y', 'F', 'Y', 27, 'u', 'h', 79, 'R', 'f', 'O', 88, 'c', 'j', 'z', 100, 'Z', 'r', 60, 's', 39, 'q', 'l', 'o', 'r', 'v', 'Q', 39, 60, 54, 'B', 'C', 't', 'Q', 1, 'k', 'h', 'u', 'k', 'F', 55, 82, 92, 'E', 'Y', 'k', 3, 'u', 'p', 'f', 56, 66, 'o', 'C', 'D', 'e', 91, 'M', 'z', 'h', 'B', 'j', 59, 'w', 'G', 55, 'A', 'C', 'O', 'O', 'n', 'D', 'e', 'v', 'I', 35, 'G', 82, 'G', 'u', 'S', 4, 'D', 'k', 12, 'o', 'm', 'n', 'a', 69, 28, 't', 52, 'M', 'u', 'D', 5, 30, 2, 'N', 'F', 'c', 'W', 'i', 'u', 24, 'W', 'K', 'Y', 'e', 'q', 61, 'l', 'r', 'G', 63, 'r', 'l', 69, 'J', 46, 10, 4, 'x', 'q', 8, 48, 76, 'F', 'l', 'U', 'u', 23, 'J', 82, 'M', 'I', 'W', 73, 63, 'k', 'z', 'b', 'j', 23, 'R', 'z', 'J', 'b', 'M', 55, 'G', 'C', 19, 35, 85, 47, 'T', 'R', 77, 'C', 50, 48, 58, 'G', 35, 43, 'P', 'Q', 'x', 't', 8, 'A', 'F', 'n', 27, 'y', 44, 't', 'i', 't', 27, 32, 'd', 63, 'j', 'J', 'D', 'z', 35, 'H', 't', 76, 'u', 85, 20, 'L', 62, 44, 84, 89, 'p', 13, 'Y', 'C', 13, 'Q', 83, 'f', 9, 12, 87, 'k', 44, 79, 55, 'g', 'e', 'R', 'm', 'e', 97, 'i', 'C', 'h', 9, 'Y', 's', 'e', 'S', 'A', 84, 'Y', 'p', 59, 'Y', 9, 45, 'Y', 66, 'v', 12, 'Y', 91, 'E', 41, 's', 19, 'n', 9, 'H', 'N', 'W', 16, 'u', 'X', 'B', 'k', 94, 'V', 'D', 25, 90, 'Q', 'P', 82, 'T', 'l', 'U', 'j', 'z', 59, 'y', 'z', 'Q', 'i', 'r', 48, 20, 18, 68, 'U', 'V', 6, 'W', 1, 50, 35, 'X', 10, 68, 48, 16, 50, 'i', 75, 90, 'X', 54, 81, 'M', 'k', 56, 'w', 'l', 'h', 'd', 'N', 93, 'G', 73, 68, 'q', 33, 'x', 'd', 12, 'C', 'k', 99, 64, 'b', 'L', 'o', 'a', 'x', 'T', 95, 'E', 32, 'd', 'N', 4, 'C', 100, 'v', 'g', 'o', 1, 'H', 'j', 97, 43, 'r', 'I', 44, 'h', 85, 'r', 'A', 'c', 'p', 29, 'L', 'H', 37, 'h', 'd', 'w', 'V', 'e', 'i', 'G', 't', 'T', 'F', 'o', 'O', 2, 96, 'I', 'j', 'f', 'M', 'q', 'g', 'g', 67, 'T', 'd', 11, 'e', 25, 'Q', 'e', 98, 'I', 25, 23, 65, 'G', 16, 'Q', 'w', 90, 'B', 12, 66, 'A', 'H', 70, 'n', 'T', 'n', 'E', 67, 13, 66, 'p', 'y', 100, 42, 'V', 1, 'M', 86, 'T', 2, 'C', 't', 'q', 'p', 'D', 'z', 'a', 'x', 'u', 'E', 'b', 'T', 'N', 's', 'G', 'O', 6, 'B', 'v', 'U', 87, 33, 44, 'L', 'J', 'N', 'r', 17, 'w', 't', 73, 'T', 71, 86, 'Q', 'l', 15, 'g', 32, 'n', 'u', 'S', 13, 79, 'r', 'B', 64, 'h', 'q', 36, 39, 'Y', 'H', 29, 'C', 'a', 'y', 43, 'V', 'E', 64, 66, 'T', 'Q', 'n', 89, 'W', 'H', 'r', 34, 'f', 'n', 67, 'L', 'n', 43, 66, 'c', 't', 'E', 'C', 'l', 'l', 'P', 64, 27, 'O', 'B', 25, 'E', 83, 'J', 44, 'o', 85, 10, 'c', 'y', 'C', 28, 48, 49, 39, 69, 'u', 'i', 'i', 'z', 'I', 'p', 17, 9, 72, 'k', 0, 'V', 42, 'w', 'L', 56, 26, 53, 'L', 'A', 'd', 64, 'X', 26, 'f', 14, 'z', 'L', 92, 'f', 's', 75, 'q', 83, 'Y', 46, 56, 36, 'j', 'w', 'g', 'A', 63, 54, 'j', 'f', 60, 93, 51, 'c', 48, 'w', 'm', 's', 51, 32, 'k', 99, 'E', 51, 'k', 69, 't', 'z', 'I', 'o', 'B', 'V', 'n', 62, 82, 'l', 68, 63, 63, 'x', 21, 33, 'c', 'Q', 'i', 'P', 'j', 'g', 'z', 't', 52, 'G', 't', 2, 'x', 2, 13, 40, 'L', 'n', 'e', 'J', 'z', 'i', 27, 'd', 10, 'p', 'l', 'u', 31, 59, 'X', 'Y', 'm', 'Q', 'b', 'n', 72, 'I', 'h', 'q', 'X', 'c', 95, 'h', 40, 'y', 'A', 'h', 'G', 'D', 'x', 80, 11, 'G', 'l', 'X', 't', 97, 'i', 'o', 17, 'l', 'r', 't', 'd', 'x', 'a', 'c', 'u', 'J', 31, 73, 'N', 63, 's', 37, 1, 26, 93, 'X', 'e', 'v', 12, 'Z', 'r', 'p', 'z', 'p', 'x', 'M', 78, 'r', 'b', 'Z', 't', 'd', 12, 'a', 'F', 68, 'X', 't', 66, 'P', 'j', 'G', 'g', 'N', 'j', 23, 'm', 'P', 84, 60, 'U', 'l', 'M', 31, 'T', 'g', 'N', 'a', 'V', 40, 84, 't', 'i', 'u', 'z', 'p', 'l', 'g', 62, 'N', 'I', 'g', 'I', 'v', 'E', 'f', 71, 8, 87, 'k', 'r', 'D', 41, 68, 26, 'V', 'l', 'n', 'm', 'z', 'i', 's', 37, 'n', 'E', 's', 'm', 5, 'R', 51, 'A', 'P', 'K', 24, 'X', 'x', 'r', 47, 56, 'b', 'u', 41, 'u', 'V', 7, 'i', 83, 'e', 'q', 61, 'E', 'u', 'I', 'w', 's', 'K', 'M', 5, 'R', 'l', 'e', 's', 97, 'f', 'b', 'x', 'h', 'k', 'w', 'D', 'K', 'd', 'z', 'r', 'm', 'G', 'b', 57, 'E', 96, 'N', 58, 'b', 12, 'C', 50, 'r', 'O', 'x', 59, 'O', 'O', 'z', 'e', 'R', 'x', 'Y', 'e', 'J', 58, 60, 38, 29, 'u', 'g', 0, 'w', 87, 'I', 'W', 88, 'V', 'M', 'V', 3, 69, 'C', 'w', 0, 26, 40, 'R', 12, 'H', 'D', 'n', 21, 'c', 'I', 83, 29, 39, 'p', 48, 77, 'k', 'p', 'c', 'o', 'P', 'Q', 70, 'r', 'M', 16, 'l', 'r', 'L', 5, 31, 'j', 'v', 89, 'O', 75, 93, 'o', 'G', 81, 'p', 76, 'D', 74, 'J', 'M', 'M', 'p', 'C', 56, 64, 'V', 'A', 89, 'L', 'A', 70, 'E', 'e', 'I', 2, 'F', 79, 'Y', 88, 71, 'P', 'F', 'u', 58, 'l', 'L', 'w', 71, 30, 'v', 'U', 38, 'F', 'C', 'M', 16, 'm', 'v', 65, 'f', 'v', 'W', 'h', 88, 'Q', 'h', 's', 37, 'w', 'j', 'f', 95, 66, 'Z', 74, 59, 'd', 'g', 'C', 45, 'I', 44, 'e', 0, 82, 87, 'W', 'O', 'v', 'a', 45, 'j', 'G', 21, 'k', 28, 5, 'U', 'G', 5, 56, 'E', 15, 'g', 'b', 'y', 'U', 'z', 'x', 'r', 'L', 'V', 18, 'u', 'K', 18, 56, 'u', 21, 'W', 'C', 'y', 42, 'i', 'J', 'c', 'A', 'C', 'M', 'U', 45, 'j', 'W', 'D', 89, 28, 'm', 'X', 'j', 'R', 'h', 'Z', 73, 50, 't', 'k', 14, 'X', 'W', 44, 80, 85, 67, 78, 'p', 'T', 'd', 'm', 'q', 'j', 'F', 'v', 'H', 16, 'L', 'k', 45, 'B', 'v', 38, 33, 'e', 76, 26, 'r', 43, 'w', 'U', 'y', 's', 'y', 'A', 'N', 'R', 'h', 'T', 82, 'i', 'h', 'p', 'o', 'T', 'X', 99, 'n', 11, 'J', 'z', 64, 'T', 'm', 67, 'V', 42, 31, 'L', 14, 'X', 58, 'L', 93, 'B', 'u', 67, 41, 'M', 40, 'e', 'd', 'C', 'L', 27, 'q', 44, 86, 'F', 0, 'D', 20, 'f', 36, 'P', 'Z', 'S', 'r', 53, 65, 44, 's', 'U', 44, 89, 'F', 'i', 1, 'X', 'j', 42, 'W', 52, 98, 'c', 61, 44, 'p', 'd', 'E', 78, 'A', 'Y', 'N', 'A', 'Q', 'C', 't', 'Q', 54, 'S', 'q', 'C', 'R', 'u', 'D', 'l', 'Y', 't', 'Q', 'E', 29, 'i', 53, 'i', 'c', 32, 'j', 49, 'q', 19, 'l', 'm', 'w', 'M', 'l', 'N', 'Q', 'R', 54, 'H', 1, 'r', 'h', 5, 'k', 'j', 'g', 'D', 59, 'W', 'z', 12, 80, 'T', 'w', 'a', 45, 'H', 'S', 15, 'F', 'g', 32, 'B', 'I', 94, 'k', 100, 'e', 'b', 'V', 'b', 'b', 84, 55, 20, 'G', 'F', 41, 'R', 'J', 'A', 'P', 'a', 'o', 22, 'i', 'q', 97, 'r', 26, 'O', 68, 'L', 85, 'E', 'L', 'T', 78, 'A', 'Q', 'P', 90, 46, 'l', 'u', 'A', 'y', 'T', 77, 'A', 'q', 'N', 25, 10, 'W', 5, 'G', 'w', 75, 68, 4, 'd', 100, 'L', 'R', 'p', 63, 'S', 'd', 'G', 68, 'g', 't', 'B', 10, 'w', 'f', 'W', 'R', 15, 18, 'V', 'D', 'q', 'd', 'i', 'k', 100, 'j', 's', 'N', 14, 'e', 'm', 'S', 'b', 'a', 31, 'Y', 'x', 100, 12, 'P', 'Y', 76, 61, 't', 'K', 'm', 'j', 98, 'y', 'Z', 'j', 'H', 32, 'H', 'p', 'u', 'c', 'N', 's', 'r', 25, 'G', 88, 'O', 'B', 'P', 'I', 'C', 'V', 'a', 'c', 'I', 'S', 12, 'w', 'h', 'h', 87, 63, 'k', 'q', 'G', 'M', 40, 'x', 66, 'Y', 22, 't', 'P', 'A', 'g', 86, 'C', 28, 'y', 98, 'J', 'y', 51, 'x', 'g', 54, 'J', 'd', 'a', 'j', 'u', 'R', 'q', 11, 'b', 33, 'h', 41, 48, 'H', 'k', 'P', 69, 's', 'e', 'B', 'r', 'A', 'L', 'h', 'S', 30, 'f', 'f', 'U', 'L', 33, 80, 'i', 'g', 9, 11, 42, 'L', 'w', 'V', 'G', 'v', 'f', 'G', 't', 'i', 90, 73, 72, 'V', 'F', 57, 't', 'd', 'E', 'E', 74, 'q', 74, 19, 18, 58, 'K', 'o', 36, 'y', 86, 'Z', 27, 65, 'i', 'S', 'G', 'I', 'R', 22, 'h', 77, 'O', 97, 6, 'n', 'Q', 'P', 75, 'B', 'x', 54, 31, 53, 'y', 7, 'P', 'y', 'p', 'X', 'C', 'y', 'J', 29, 'U', 's', 'U', 'L', 'w', 'I', 'r', 'x', 'F', 'c', 'C', 'w', 'm', 24, 'w', 'x', 45, 'n', 'c', 'X', 'y', 32, 'G', 97, 'T', 51, 'E', 'C', 40, 'P', 60, 25, 'B', 'P', 'd', 1, 'i', 'S', 'K', 'd', 57, 94, 'g', 'j', 'F', 'Y', 'R', 'k', 'y', 'o', 'u', 'l', 's', 31, 54, 'l', 46, 'S', 'e', 'Z', 88, 'd', 34, 90, 'M', 'F', 'P', 'J', 59, 64, 30, 'B', 'K', 'F', 'X', 'q', 87, 'P', 89, 26, 69, 'k', 'O', 42, 'i', 3, 'w', 64, 39, 'V', 30, 's', 'P', 'Z', 's', 's', 'P', 'k', 'S', 'c', 'O', 'M', 'P', 'e', 'S', 78, 'u', 'g', 12, 91, 11, 75, 'K', 'v', 'n', 'l', 83, 'i', 59, 'Z']\n"
     ]
    }
   ],
   "source": [
    "import random\n",
    "\n",
    "lst1 = [chr(random.randint(97,97+26-1)) for i in range(1024)]\n",
    "lst2 = [chr(random.randint(65,65+26-1)) for i in range(1024)]\n",
    "lst3 = [random.randint(0,100) for i in range(1024)]\n",
    "lst = lst1 + lst2 + lst3\n",
    "random.shuffle(lst)\n",
    "print(lst)"
   ]
  },
  {
   "cell_type": "code",
   "execution_count": 13,
   "metadata": {
    "collapsed": true
   },
   "outputs": [
    {
     "name": "stdout",
     "output_type": "stream",
     "text": [
      "{'T': 44, 'J': 40, 'R': 42, 'g': 47, 'l': 45, 'v': 30, 'j': 45, 'M': 41, 'd': 43, 28: 11, 'Q': 36, 23: 8, 'I': 36, 'u': 47, 'n': 32, 'V': 43, 'o': 42, 'f': 39, 'p': 45, 't': 44, 'b': 29, 'N': 31, 'X': 40, 'U': 31, 0: 6, 3: 6, 46: 9, 84: 8, 48: 14, 'S': 39, 's': 41, 68: 20, 'y': 34, 64: 18, 51: 9, 'c': 33, 24: 7, 'P': 52, 'k': 43, 'w': 46, 93: 9, 57: 7, 'r': 54, 'D': 39, 80: 8, 95: 11, 'O': 33, 'K': 30, 96: 9, 70: 12, 'm': 27, 'E': 47, 'x': 39, 58: 10, 100: 14, 56: 17, 7: 7, 99: 8, 44: 15, 39: 11, 97: 12, 'h': 33, 8: 7, 'a': 22, 15: 8, 'W': 38, 5: 11, 'q': 34, 81: 5, 19: 7, 'A': 44, 'B': 36, 59: 11, 45: 15, 'z': 44, 88: 9, 91: 12, 21: 7, 29: 13, 'L': 52, 43: 9, 31: 14, 'G': 41, 73: 11, 74: 8, 37: 9, 53: 8, 2: 8, 54: 15, 'Z': 28, 'Y': 41, 25: 16, 38: 9, 50: 13, 72: 13, 76: 12, 9: 14, 27: 12, 33: 10, 'H': 36, 61: 11, 36: 10, 6: 7, 49: 6, 14: 7, 'C': 47, 63: 14, 71: 8, 'i': 39, 16: 11, 60: 8, 18: 9, 40: 12, 13: 8, 89: 12, 'e': 47, 'F': 37, 86: 11, 1: 10, 67: 7, 12: 18, 79: 8, 17: 5, 85: 11, 42: 9, 94: 11, 62: 9, 69: 12, 26: 13, 47: 6, 66: 14, 41: 12, 22: 8, 92: 7, 90: 11, 20: 14, 10: 10, 32: 10, 35: 7, 78: 10, 83: 10, 77: 9, 11: 10, 65: 10, 30: 9, 75: 12, 98: 8, 52: 7, 82: 11, 87: 11, 4: 7, 55: 7, 34: 5}\n"
     ]
    }
   ],
   "source": [
    "d = dict()\n",
    "for ele in lst:\n",
    "    if ele in d:\n",
    "        d[ele] += 1\n",
    "    else:\n",
    "        d[ele] = 1\n",
    "print(d)\n",
    "    "
   ]
  },
  {
   "cell_type": "code",
   "execution_count": 1,
   "metadata": {},
   "outputs": [
    {
     "name": "stdout",
     "output_type": "stream",
     "text": [
      "1\n",
      "2\n"
     ]
    }
   ],
   "source": [
    "lst = [1, 2, 3, 4]\n",
    "it = iter(lst) #创建迭代器对象\n",
    "print(next(it)) #输出下一个元素\n",
    "print(next(it))"
   ]
  },
  {
   "cell_type": "code",
   "execution_count": 4,
   "metadata": {},
   "outputs": [
    {
     "name": "stdout",
     "output_type": "stream",
     "text": [
      "1234"
     ]
    }
   ],
   "source": [
    "lst = [1, 2, 3, 4]\n",
    "it = iter(lst)\n",
    "for i in it:\n",
    "    print(i, end=\"\")"
   ]
  },
  {
   "cell_type": "code",
   "execution_count": 6,
   "metadata": {},
   "outputs": [
    {
     "name": "stdout",
     "output_type": "stream",
     "text": [
      "xxl\n"
     ]
    }
   ],
   "source": [
    "def lydlwy():\n",
    "    print(\"xxl\")\n",
    "\n",
    "lydlwy()"
   ]
  },
  {
   "cell_type": "code",
   "execution_count": 10,
   "metadata": {},
   "outputs": [
    {
     "name": "stdout",
     "output_type": "stream",
     "text": [
      "welcome: xxl\n",
      "width =  4 length= 5 area= 20\n"
     ]
    }
   ],
   "source": [
    "def area(width,length):\n",
    "    return width*length\n",
    "\n",
    "def wel_name(name):\n",
    "    print(\"welcome:\",name)\n",
    "    \n",
    "wel_name(\"xxl\")\n",
    "w = 4\n",
    "n = 5\n",
    "print(\"width = \", w, \"length=\", n, \"area=\", area(w,n) )"
   ]
  },
  {
   "cell_type": "code",
   "execution_count": 12,
   "metadata": {},
   "outputs": [
    {
     "name": "stdout",
     "output_type": "stream",
     "text": [
      "in prnt_func a =  19\n",
      "in prnt_func a =  4\n",
      "a =  4\n"
     ]
    }
   ],
   "source": [
    "a = 4\n",
    "def prnt_func1():\n",
    "    a = 19\n",
    "    print(\"in prnt_func a = \",a)\n",
    "def prnt_func2():\n",
    "    print(\"in prnt_func a = \",a)\n",
    "    \n",
    "prnt_func1()\n",
    "prnt_func2()\n",
    "print(\"a = \",a)"
   ]
  },
  {
   "cell_type": "code",
   "execution_count": 13,
   "metadata": {},
   "outputs": [
    {
     "name": "stdout",
     "output_type": "stream",
     "text": [
      "100\n",
      "1000\n"
     ]
    }
   ],
   "source": [
    "def pow(x, n=2):\n",
    "    return x**n\n",
    "\n",
    "print(pow(10))\n",
    "print(pow(10, 3))"
   ]
  },
  {
   "cell_type": "code",
   "execution_count": 22,
   "metadata": {},
   "outputs": [
    {
     "name": "stdout",
     "output_type": "stream",
     "text": [
      "None\n"
     ]
    }
   ],
   "source": [
    "def sum(x, y):\n",
    "    c = x + y\n",
    "    return\n",
    "\n",
    "\n",
    "s = sum(4, 5)\n",
    "print(s)"
   ]
  },
  {
   "cell_type": "code",
   "execution_count": 26,
   "metadata": {},
   "outputs": [
    {
     "name": "stdout",
     "output_type": "stream",
     "text": [
      "8.0\n"
     ]
    }
   ],
   "source": [
    "def test(n, m, *args):\n",
    "    result = 0\n",
    "    for i in args:\n",
    "        result += i\n",
    "    return result/n + m\n",
    "\n",
    "print(test(2, 1, 2, 3, 4, 5))"
   ]
  },
  {
   "cell_type": "code",
   "execution_count": 33,
   "metadata": {},
   "outputs": [
    {
     "name": "stdout",
     "output_type": "stream",
     "text": [
      "21\n",
      "6\n"
     ]
    }
   ],
   "source": [
    "def test(*sums):\n",
    "    result = 0\n",
    "    for i in sums:\n",
    "        result += i\n",
    "    return result\n",
    "\n",
    "\n",
    "r = test(1,2,3,4,5,6)\n",
    "print(r)\n",
    "r = test(1,2,3)\n",
    "print(r)"
   ]
  },
  {
   "cell_type": "code",
   "execution_count": 42,
   "metadata": {},
   "outputs": [
    {
     "name": "stdout",
     "output_type": "stream",
     "text": [
      "16777216.0, 8388608.0, 4194304.0, 2097152.0, 1048576.0, 524288.0, 262144.0, 131072.0, 65536.0, 32768.0, 16384.0, 8192.0, 4096.0, 2048.0, 1024.0, 512.0, 256.0, 128.0, 64.0, 32.0, 16.0, 8.0, 4.0, 2.0, 1.0, 0.5, 0.25, 0.125, 0.0625, 0.03125, 0.015625, 0.0078125, 0.00390625, 0.001953125, 0.0009765625, 0.00048828125, 0.000244140625, 0.0001220703125, 6.103515625e-05, 3.0517578125e-05, 1.52587890625e-05, 7.62939453125e-06, 3.814697265625e-06, 1.9073486328125e-06, 9.5367431640625e-07, 4.76837158203125e-07, 2.384185791015625e-07, 1.1920928955078125e-07, 5.960464477539063e-08, 2.9802322387695312e-08, 1.4901161193847656e-08, "
     ]
    }
   ],
   "source": [
    "def test(num):\n",
    "    while True:\n",
    "        num /= 2\n",
    "        yield num\n",
    "        \n",
    "it = test(33554432)\n",
    "for i in it:\n",
    "    if i<1e-8:\n",
    "        break\n",
    "    print(i, end=\", \")"
   ]
  },
  {
   "cell_type": "code",
   "execution_count": 67,
   "metadata": {},
   "outputs": [
    {
     "name": "stdout",
     "output_type": "stream",
     "text": [
      "[5, 4, 3, 2, 1, 1]\n"
     ]
    }
   ],
   "source": [
    "def add1(lst):\n",
    "    lst.append(1)\n",
    "\n",
    "lst = [1, 2, 3, 4, 5]\n",
    "lst.reverse()\n",
    "add1(lst)\n",
    "print(lst)\n"
   ]
  },
  {
   "cell_type": "code",
   "execution_count": 71,
   "metadata": {},
   "outputs": [
    {
     "name": "stdout",
     "output_type": "stream",
     "text": [
      "我爱李未晏\n"
     ]
    }
   ],
   "source": [
    "s = b'\\xe6\\x88\\x91\\xe7\\x88\\xb1\\xe6\\x9d\\x8e\\xe6\\x9c\\xaa\\xe6\\x99\\x8f'\n",
    "print(s.decode(\"utf-8\"))"
   ]
  },
  {
   "cell_type": "code",
   "execution_count": 76,
   "metadata": {},
   "outputs": [
    {
     "name": "stdout",
     "output_type": "stream",
     "text": [
      "[1, 2, 3]\n",
      "[4, 9]\n",
      "[3, 7, 8, 4, 8, 9, 5, 9, 10]\n"
     ]
    }
   ],
   "source": [
    "lst = [1, 2, 3]\n",
    "lst1 = [2, 6, 7]\n",
    "print([x for x in lst])\n",
    "print([x**2 for x in lst if x > 1])\n",
    "print([x+y for x in lst for y in lst1])"
   ]
  },
  {
   "cell_type": "code",
   "execution_count": 95,
   "metadata": {},
   "outputs": [
    {
     "name": "stdout",
     "output_type": "stream",
     "text": [
      "⎡1  2  3⎤\n",
      "⎢       ⎥\n",
      "⎢4  5  6⎥\n",
      "⎢       ⎥\n",
      "⎣7  8  9⎦\n"
     ]
    }
   ],
   "source": [
    "import numpy as np\n",
    "import sympy as sp\n",
    "matrix = [\n",
    "    [1, 2, 3],\n",
    "    [4, 5, 6],\n",
    "    [7, 8, 9],\n",
    "]\n",
    "M = sp.Matrix(matrix)\n",
    "print(sp.pretty(M))"
   ]
  },
  {
   "cell_type": "code",
   "execution_count": 85,
   "metadata": {},
   "outputs": [
    {
     "name": "stdout",
     "output_type": "stream",
     "text": [
      "['2.7', '2.67', '2.669', '2.6692', '2.66917']\n"
     ]
    }
   ],
   "source": [
    "print([str(round(355/133, i)) for i in range(1, 6)])"
   ]
  },
  {
   "cell_type": "code",
   "execution_count": 103,
   "metadata": {},
   "outputs": [
    {
     "name": "stdout",
     "output_type": "stream",
     "text": [
      "[[1, 4, 7], [2, 5, 8], [3, 6, 9]]\n"
     ]
    }
   ],
   "source": [
    "matrix = [\n",
    "    [1, 2, 3],\n",
    "    [4, 5, 6],\n",
    "    [7, 8, 9],\n",
    "]\n",
    "\n",
    "print([[ row[i] for row in matrix ] for i in range(3)])\n",
    "    \n",
    "    "
   ]
  },
  {
   "cell_type": "code",
   "execution_count": 110,
   "metadata": {},
   "outputs": [
    {
     "name": "stdout",
     "output_type": "stream",
     "text": [
      "2\n",
      "[5, 8, 9]\n",
      "[8, 9]\n"
     ]
    }
   ],
   "source": [
    "lst = [2, 5, 8, 9]\n",
    "print(lst.pop(0))\n",
    "print(lst)\n",
    "del lst[0]\n",
    "print(lst)"
   ]
  },
  {
   "cell_type": "code",
   "execution_count": 112,
   "metadata": {},
   "outputs": [
    {
     "name": "stdout",
     "output_type": "stream",
     "text": [
      "{'l', 's', 'h', 'j', 'n', 'k', 'f'}\n"
     ]
    }
   ],
   "source": [
    "a = {x for x in \"anshfjkjfalna\" if x not in \"abc\"}\n",
    "print(a)"
   ]
  },
  {
   "cell_type": "code",
   "execution_count": 115,
   "metadata": {},
   "outputs": [
    {
     "name": "stdout",
     "output_type": "stream",
     "text": [
      "{2: 3, 3: 4, 'key': 8}\n",
      "{3: 4, 2: 3}\n"
     ]
    }
   ],
   "source": [
    "from pprint import pprint\n",
    "dct = dict([ [3,4], [\"key\",8], [2,3] ])\n",
    "pprint(dct)\n",
    "del dct[\"key\"]\n",
    "print(dct)\n",
    "\n"
   ]
  },
  {
   "cell_type": "code",
   "execution_count": 122,
   "metadata": {},
   "outputs": [
    {
     "name": "stdout",
     "output_type": "stream",
     "text": [
      "{'3': 4, 'liang': 9, 'o': 2}\n",
      "{0: 1,\n",
      " 1: 1,\n",
      " 2: 4,\n",
      " 3: 27,\n",
      " 4: 256,\n",
      " 5: 3125,\n",
      " 6: 46656,\n",
      " 7: 823543,\n",
      " 8: 16777216,\n",
      " 9: 387420489,\n",
      " 10: 10000000000,\n",
      " 11: 285311670611,\n",
      " 12: 8916100448256,\n",
      " 13: 302875106592253,\n",
      " 14: 11112006825558016,\n",
      " 15: 437893890380859375,\n",
      " 16: 18446744073709551616,\n",
      " 17: 827240261886336764177,\n",
      " 18: 39346408075296537575424,\n",
      " 19: 1978419655660313589123979,\n",
      " 20: 104857600000000000000000000,\n",
      " 21: 5842587018385982521381124421,\n",
      " 22: 341427877364219557396646723584,\n",
      " 23: 20880467999847912034355032910567}\n",
      "3 4\n",
      "liang 9\n",
      "o 2\n"
     ]
    }
   ],
   "source": [
    "from pprint import pprint\n",
    "dct = {'3':4, \"liang\":9, \"o\":2}\n",
    "print(dct)\n",
    "d = {i:i**i for i in range(24)}\n",
    "pprint(d)\n",
    "for k, v in dct.items():\n",
    "    print(k, v)\n"
   ]
  },
  {
   "cell_type": "code",
   "execution_count": 124,
   "metadata": {},
   "outputs": [
    {
     "name": "stdout",
     "output_type": "stream",
     "text": [
      "what is your name, it is lyd\n",
      "what is your home, it is shandong\n",
      "what is your gender, it is male\n",
      "what is your language, it is chinese\n"
     ]
    }
   ],
   "source": [
    "questions = ['name', 'home', 'gender', 'language']\n",
    "answers = ['lyd', 'shandong', 'male', 'chinese']\n",
    "for i, j in zip(questions, answers):\n",
    "    print(\"what is your %s, it is %s\"  % (i, j))\n",
    "        \n"
   ]
  },
  {
   "cell_type": "code",
   "execution_count": null,
   "metadata": {},
   "outputs": [
    {
     "name": "stdout",
     "output_type": "stream",
     "text": [
      "Help on function fib in module utils.fib:\n",
      "\n",
      "fib(n)\n",
      "    This is fib method.\n",
      "\n",
      "Help on function fibab in module utils.fib:\n",
      "\n",
      "fibab(n, a, b)\n",
      "    This is general fib method.\n",
      "\n",
      "1, 1, 2, 3, 5, 8, 13, 21, 34, 55, 89, 144, 233, 377, 610, 987, 1597, 2584, 4181, 6765, 10946, 17711, 28657, 46368, 75025, 121393, 196418, 317811, 514229, 832040, 1346269, 2178309, 3524578, 5702887, 9227465, 14930352, 24157817, 39088169, 63245986, 102334155, 165580141, "
     ]
    }
   ],
   "source": [
    "from utils import fib\n",
    "\n",
    "help(fib.fib)\n",
    "help(fib.fibab)\n",
    "for i in range(16):\n",
    "    print(fib.fib(i), end=\", \")"
   ]
  },
  {
   "cell_type": "code",
   "execution_count": 2,
   "metadata": {},
   "outputs": [
    {
     "name": "stdout",
     "output_type": "stream",
     "text": [
      "Help on module utils.pow in utils:\n",
      "\n",
      "NAME\n",
      "    utils.pow\n",
      "\n",
      "FUNCTIONS\n",
      "    cube(x)\n",
      "        Cube.\n",
      "    \n",
      "    pow(x, n)\n",
      "        Power.\n",
      "    \n",
      "    sqrt(x)\n",
      "        Square root.\n",
      "    \n",
      "    square(x)\n",
      "        Square.\n",
      "\n",
      "FILE\n",
      "    c:\\users\\苏苏\\desktop\\打倒李未晏\\utils\\pow.py\n",
      "\n",
      "\n",
      "(6.123233995736766e-17+1j)\n"
     ]
    }
   ],
   "source": [
    "from utils import pow\n",
    "help(pow)\n",
    "\n",
    "print(pow.sqrt(-1))"
   ]
  },
  {
   "cell_type": "code",
   "execution_count": 5,
   "metadata": {},
   "outputs": [
    {
     "name": "stdout",
     "output_type": "stream",
     "text": [
      "89\n"
     ]
    }
   ],
   "source": [
    "from utils.fib import fib as whatever\n",
    "\n",
    "print(whatever(10))"
   ]
  },
  {
   "cell_type": "code",
   "execution_count": null,
   "metadata": {},
   "outputs": [],
   "source": []
  }
 ],
 "metadata": {
  "kernelspec": {
   "display_name": "Python 3",
   "language": "python",
   "name": "python3"
  },
  "language_info": {
   "codemirror_mode": {
    "name": "ipython",
    "version": 3
   },
   "file_extension": ".py",
   "mimetype": "text/x-python",
   "name": "python",
   "nbconvert_exporter": "python",
   "pygments_lexer": "ipython3",
   "version": "3.7.1"
  }
 },
 "nbformat": 4,
 "nbformat_minor": 2
}
