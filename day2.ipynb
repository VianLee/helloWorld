{
 "cells": [
  {
   "cell_type": "code",
   "execution_count": 1,
   "metadata": {},
   "outputs": [
    {
     "name": "stdout",
     "output_type": "stream",
     "text": [
      ">>> hello world\n",
      "hello world\n"
     ]
    }
   ],
   "source": [
    "# input\n",
    "s = input(\">>> \")\n",
    "# output\n",
    "print(s)"
   ]
  },
  {
   "cell_type": "code",
   "execution_count": 14,
   "metadata": {},
   "outputs": [
    {
     "name": "stdout",
     "output_type": "stream",
     "text": [
      "hello world\n",
      "---Vian\n",
      "This is another line.\n",
      "Help on built-in function readlines:\n",
      "\n",
      "readlines(hint=-1, /) method of _io.TextIOWrapper instance\n",
      "    Return a list of lines from the stream.\n",
      "    \n",
      "    hint can be specified to control the number of lines read: no more\n",
      "    lines will be read if the total size (in bytes/characters) of all\n",
      "    lines so far exceeds hint.\n",
      "\n",
      "hello world\n"
     ]
    }
   ],
   "source": [
    "file = \"tmp.txt\"\n",
    "encode = \"utf-8\"\n",
    "with open(file, \"w\", encoding=encode) as f:\n",
    "    f.write(\"hello world\\n---Vian\")\n",
    "with open(file, \"a+\", encoding=encode) as f:\n",
    "    f.write(\"\\nThis is another line.\")\n",
    "with open(file, \"r\", encoding=encode) as f:\n",
    "    content = f.read()\n",
    "    print(content)\n",
    "with open(file, \"r\", encoding=encode) as f:\n",
    "    num = 0\n",
    "    help(f.readlines)\n",
    "    for line in f.readlines():\n",
    "        num += 1\n",
    "        if num>2:\n",
    "            break\n",
    "        print(line, end=\"\")"
   ]
  },
  {
   "cell_type": "code",
   "execution_count": 21,
   "metadata": {},
   "outputs": [
    {
     "name": "stdout",
     "output_type": "stream",
     "text": [
      "1\n",
      "2\n",
      "3\n",
      "list index out of range\n",
      "4\n",
      "5\n"
     ]
    }
   ],
   "source": [
    "lst = [1, 2, 3, 4, 5]\n",
    "for i in [0, 1, 2, 10, 3, 4]:\n",
    "    try:\n",
    "        print(lst[i])\n",
    "    except IOError as e:\n",
    "        print(e)\n",
    "    except IndexError as e:\n",
    "        print(e)\n",
    "    except Exception as e:\n",
    "        print(e)\n",
    "    finally:\n",
    "        pass"
   ]
  },
  {
   "cell_type": "code",
   "execution_count": 35,
   "metadata": {},
   "outputs": [
    {
     "name": "stdout",
     "output_type": "stream",
     "text": [
      "(10,7)\n",
      "1.0\n",
      "I am private.\n"
     ]
    }
   ],
   "source": [
    "from math import sqrt\n",
    "\n",
    "class coords(object):\n",
    "    def __init__(self, x, y):\n",
    "        self.x = x\n",
    "        self.y = y\n",
    "    \n",
    "    def __str__(self):\n",
    "        return \"(%s,%s)\"%(self.x,self.y)\n",
    "    \n",
    "    def distance(self):\n",
    "        return sqrt(self.x**2+self.y**2)\n",
    "    \n",
    "    def __private(self):\n",
    "        print(\"I am private.\")\n",
    "        \n",
    "c1 = coords(10, 7)\n",
    "c2 = coords(0, 1)\n",
    "print(c1.__str__())\n",
    "print(c2.distance())\n",
    "c1._coords__private()"
   ]
  },
  {
   "cell_type": "code",
   "execution_count": null,
   "metadata": {},
   "outputs": [],
   "source": []
  }
 ],
 "metadata": {
  "kernelspec": {
   "display_name": "Python 3",
   "language": "python",
   "name": "python3"
  },
  "language_info": {
   "codemirror_mode": {
    "name": "ipython",
    "version": 3
   },
   "file_extension": ".py",
   "mimetype": "text/x-python",
   "name": "python",
   "nbconvert_exporter": "python",
   "pygments_lexer": "ipython3",
   "version": "3.7.1"
  }
 },
 "nbformat": 4,
 "nbformat_minor": 2
}
