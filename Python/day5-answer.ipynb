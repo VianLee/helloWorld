{
 "cells": [
  {
   "cell_type": "code",
   "execution_count": 45,
   "metadata": {},
   "outputs": [
    {
     "name": "stdout",
     "output_type": "stream",
     "text": [
      "['http://www.baidu.com/link?url=sT5nFVXatvrfafsp0z56oKWpaX6wNHUy6_pDnjd2ldDmJ-Ec1AvIzXQiYfPgrw9Cp8ktXwvcXoL8rEvi6D1yt_', 'http://www.baidu.com/link?url=lF4h9V8ovcBlFWHgCzOMzbXTycBnae6ULKqSvp31FL4jfNRO2rAko8Pbn7nVolht', 'http://www.baidu.com/link?url=hcslGtR-Gr12uR2vZupK4-2JdwTbKhWvOdNdoHROhJ-Tk8aiBozHZA19qgEHiA43Gbn7ySns6dwmuaE2G5fK4-YJnklZ6RzZsVG7_H1RlZy7tdKDyAZRymO8sQ3Jl24m', 'http://www.baidu.com/link?url=GGwKFQs-fs4Uhu0H1BHObt5C7lypg4uSoLgm4pdo8lINVXE4J2R-eA6c2-eGUgcQjAJjcqkWa8PwQLAdKiOXja', 'http://www.baidu.com/link?url=KvjN-6GtmZJN7wMBoV8AyC_zxukK2OF9O77r155HCUeLFAGiPRW0IyBP5EGXkPmb', 'http://www.baidu.com/link?url=ebZMEuQXxH7g37jtqMnjPaWAcLtPeptibi9Mkn5vTfLB7-DAKFZJl7yJpC-1BchilDXt63x-_1RxbpjEEOEH6a', 'http://www.baidu.com/link?url=Pz39KuAV1qjN-na7ql8VrVz8VwojjWrYM4FE_T10FRPbZlxGIek_XtGrmCNlg427', 'http://www.baidu.com/link?url=lhPEUttN6YjTosuFfsKhHpBrGmtZa_nNC3vWf_u_E7ElRh5EYofcttEuX6U3_9VnlmsdVYylu2D6stItUdfJQ_', 'http://www.baidu.com/link?url=WO6pvwAu0ubpQZZ1DAebVhHoY5hrVDvrBgElTXBtw55XpdEMkQCneexjii3QQ2dL7sWqaBoOVIR97PNzAtWgbKc9GAAfLlaRgwqyHvKXaw3']\n",
      "['<em>Python</em> 基础教程 | 菜鸟教程', '<em>python</em>下载 地址 - Download <em>Python</em> | <em>Python</em>.org', '<em>Python</em>教程 - 廖雪峰的官方网站', '<em>Python</em> 简介 | 菜鸟教程', '廖雪峰<em>python</em>教程 - 首页- 廖雪峰的官方网站', '<em>Python</em> 2.7.3 Release | <em>Python</em>.org', '<em>Python</em>Tab:<em>Python</em>中文开发者社区门户', '<em>Python</em>之路【第一篇】:<em>Python</em>简介和入门 - 武沛齐 - 博客园', '十分钟让你看懂<em>Python</em>_图文_百度文库']\n"
     ]
    }
   ],
   "source": [
    "import re\n",
    "import requests\n",
    "\n",
    "\n",
    "def save_csv(filename:str, content:list):\n",
    "    encode = \"gbk\"\n",
    "    linbk  = \"\\n\"\n",
    "    seper  = \",\"\n",
    "    with open(filename+\".csv\", \"w\", encoding=encode) as f:\n",
    "        for c in content:\n",
    "            f.write(seper.join(c))\n",
    "            f.write(linbk)\n",
    "\n",
    "url = \"http://www.baidu.com/s?wd=%s&pn=%d1\"\n",
    "pattern  = \"(?<=%s)[\\s\\S]+?(?=%s)\"\n",
    "keywords = [\"Python\"]\n",
    "\n",
    "for keyword in keywords:\n",
    "    for i in range(0, 7):\n",
    "        hrefs = []\n",
    "        names = []\n",
    "        response = requests.get(url%(keyword, i))\n",
    "        text = response.text\n",
    "        text = re.sub(\"\\s+\", \" \", text)\n",
    "        tmp = re.findall(pattern%(\"<a data-click\", \"</a>\"), text)\n",
    "        for t in tmp:\n",
    "            if \"百度快照\" in t:\n",
    "                continue\n",
    "            else:\n",
    "                hrefs += re.findall(pattern%(\"href = \\\"\",\"\\\"\"), t)\n",
    "                names += re.findall(pattern%(\">\",\"$\"), t)\n",
    "        print(hrefs)\n",
    "        print(names)\n",
    "        save_csv(keyword, zip(hrefs,names))\n",
    "        break"
   ]
  },
  {
   "cell_type": "code",
   "execution_count": null,
   "metadata": {},
   "outputs": [],
   "source": []
  },
  {
   "cell_type": "code",
   "execution_count": null,
   "metadata": {},
   "outputs": [],
   "source": []
  },
  {
   "cell_type": "code",
   "execution_count": null,
   "metadata": {},
   "outputs": [],
   "source": []
  }
 ],
 "metadata": {
  "kernelspec": {
   "display_name": "Python 3",
   "language": "python",
   "name": "python3"
  },
  "language_info": {
   "codemirror_mode": {
    "name": "ipython",
    "version": 3
   },
   "file_extension": ".py",
   "mimetype": "text/x-python",
   "name": "python",
   "nbconvert_exporter": "python",
   "pygments_lexer": "ipython3",
   "version": "3.7.1"
  }
 },
 "nbformat": 4,
 "nbformat_minor": 2
}
