{
 "cells": [
  {
   "cell_type": "code",
   "execution_count": 18,
   "metadata": {},
   "outputs": [
    {
     "name": "stdout",
     "output_type": "stream",
     "text": [
      "['<div class=\"b_title\"><h2><a target=\"_blank\" href=\"https://docs.python.org/3/index.html\" h=\"ID=SERP,5084.1\"><strong>Python</strong> 3.7.2 documentation</a></h2><div class=\"b_suffix b_secondaryText nowrap\"><div>', '<div class=\"b_title\"><h2><a target=\"_blank\" href=\"https://docs.python.org/3/library/index.html\" h=\"ID=SERP,5099.1\">The <strong>Python</strong> Standard Library — <strong>Python</strong> 3.7.2 …</a></h2><div class=\"b_suffix b_secondaryText nowrap\"><div>', '<div class=\"b_title\"><h2><a target=\"_blank\" href=\"http://www.coltfever.com/Python.html\" h=\"ID=SERP,5113.1\"><strong>Python</strong> - ColtFever</a></h2><div class=\"b_suffix b_secondaryText nowrap\"><div>', '<div class=\"b_title\"><h2><a target=\"_blank\" href=\"https://www.python.org/dev/peps/pep-0008/\" h=\"ID=SERP,5141.1\">PEP 8 -- Style Guide for <strong>Python</strong> Code | <strong>Python</strong>.org</a></h2><div class=\"b_suffix b_secondaryText nowrap\"><div>', '<div class=\"b_title\"><h2><a target=\"_blank\" href=\"https://www.coursera.org/learn/python\" h=\"ID=SERP,5156.1\">Programming for Everybody (Getting Started with …</a></h2><div class=\"b_suffix b_secondaryText nowrap\"><div>', '<div class=\"b_title\"><h2><a target=\"_blank\" href=\"http://inventwithpython.com/\" h=\"ID=SERP,5171.1\">Invent with <strong>Python</strong></a></h2><div class=\"b_suffix b_secondaryText nowrap\"><div>', '<div class=\"b_title\"><h2><a target=\"_blank\" href=\"https://fr.wikipedia.org/wiki/Langage_de_programmation\" h=\"ID=SERP,5185.1\">Langage de programmation — Wikip&#233;dia</a></h2><div class=\"b_suffix b_secondaryText nowrap\"><div>', '<div class=\"b_title\"><h2><a target=\"_blank\" href=\"https://www.oreilly.com/ideas\" h=\"ID=SERP,5212.1\">Ideas - O\\'Reilly Media</a></h2><div class=\"b_suffix b_secondaryText nowrap\"><div>']\n",
      "\n",
      "\n",
      "\n",
      "\n",
      "\n",
      "\n",
      "\n",
      "\n",
      "\n",
      "\n",
      "\n",
      "[]\n",
      "\n",
      "[]\n"
     ]
    }
   ],
   "source": [
    "import re\n",
    "import requests\n",
    "\n",
    "\n",
    "keywords = [\"Python\", \"我爱罗\", \"质数\"]\n",
    "url = \"https://cn.bing.com/search?q=%s&first=%d1\"\n",
    "pattern = \"(?<=%s)[\\s\\S]+?(?=%s)\"\n",
    "\n",
    "for keyword in keywords:\n",
    "    kw_name = []\n",
    "    kw_link = []\n",
    "    for i in range(0, 6):\n",
    "        response = requests.get(url%(keyword,i))\n",
    "        text = response.text\n",
    "        tmp = re.findall(\"<div class=\\\"b_title\\\">[\\s\\S]+<div>\",text)\n",
    "        print(tmp)\n",
    "        \n",
    "        for i in range(len(tmp)):\n",
    "            t = re.findall(pattern%(\"h=\\\"ID=SERP,[\\d\\.]+\\\">\",\"</a>\"),tmp[i])\n",
    "            tmp[i] = t[0]\n",
    "        kw_name += tmp\n",
    "        for i in range(len(tmp)):\n",
    "            t = re.findall(pattern%(\"href=\\\"\",\"\\\"\"),tmp[i])\n",
    "            tmp[i] = t[0]\n",
    "        kw_link += tmp\n",
    "    \n",
    "    print(kw_name)\n",
    "    print()\n",
    "    print(kw_link)\n",
    "            \n",
    "    \n",
    "            \n",
    "        \n",
    "\n",
    "            \n",
    "     \n",
    " \n",
    "    \n",
    "\n",
    "    \n",
    "   \n",
    "\n"
   ]
  },
  {
   "cell_type": "code",
   "execution_count": null,
   "metadata": {},
   "outputs": [],
   "source": []
  }
 ],
 "metadata": {
  "kernelspec": {
   "display_name": "Python 3",
   "language": "python",
   "name": "python3"
  },
  "language_info": {
   "codemirror_mode": {
    "name": "ipython",
    "version": 3
   },
   "file_extension": ".py",
   "mimetype": "text/x-python",
   "name": "python",
   "nbconvert_exporter": "python",
   "pygments_lexer": "ipython3",
   "version": "3.7.1"
  }
 },
 "nbformat": 4,
 "nbformat_minor": 2
}
