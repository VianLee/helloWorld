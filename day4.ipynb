{
 "cells": [
  {
   "cell_type": "code",
   "execution_count": null,
   "metadata": {},
   "outputs": [],
   "source": [
    "# -*- coding: utf-8 -*-\n",
    "import xlrd\n",
    "#打开excel文件读取数据\n",
    "exce = xlrd.open_workbook('D:\\workspace\\Hard currency\\培养方案\\各类已修学分.xlsx')\n",
    "\n",
    "#获取excel中对应的sheet\n",
    "print('所有sheet名称',exce.sheet_names()) #获取所有sheet名称\n",
    "sheets = exce.sheets()  #获取所有sheets\n",
    "#sheet = exce.sheets()[0]    #也可以通过下标去访问某个具体的sheet\n",
    "sheet1 = exce.sheet_by_name('Sheet1')    #通过sheet名称获取\n",
    "#sheet2 = exce.sheet_by_index(1) #通过下标获取某个sheet\n",
    "\n",
    "#获取sheet中行数和列数\n",
    "nrows = sheet1.nrows\n",
    "ncols = sheet1.ncols\n",
    "print('对应sheet中行数：%d行，列数：%d列'% (nrows,ncols))\n",
    "\n",
    "#获取sheet中整行或整列的数据(数组)\n",
    "row1 = sheet1.row_values(3)     #通过下标获取某一行的数据\n",
    "col1 = sheet1.col_values(0)     #通过下标获取某一列的数据\n",
    "print('某行的数据：',row1)\n",
    "print('某列的数据：',col1)\n",
    "\n",
    "#获取sheet中某个单元格的数据\n",
    "cell_A3 = sheet1.cell(2,0).value    #第三行第一列\n",
    "cell_B2 = sheet1.cell(1,1).value    #第二行第二列\n",
    "cell_C3 = sheet1.cell(2,2).value    #第三行第三列\n",
    "print('第一列第三行：',cell_A3)\n",
    "print('第二行第二列：',cell_B2)\n",
    "print('第三行第三列：',cell_C3)\n",
    "\n",
    "#获取单元格数据类型\n",
    "A3_ctype = sheet1.cell(2,0).ctype   #数字类型\n",
    "B2_ctype = sheet1.cell(1,1).ctype   #str类型\n",
    "C3_ctype = sheet1.cell(2,2).ctype   #data类型\n",
    "print('数字类型：',A3_ctype)\n",
    "print('str类型：',B2_ctype)\n",
    "print('data类型：',C3_ctype)\n",
    "#ctype：0 empty,1 string, 2 number, 3 date, 4 boolean, 5 error"
   ]
  },
  {
   "cell_type": "code",
   "execution_count": null,
   "metadata": {},
   "outputs": [],
   "source": []
  }
 ],
 "metadata": {
  "kernelspec": {
   "display_name": "Python 3",
   "language": "python",
   "name": "python3"
  },
  "language_info": {
   "codemirror_mode": {
    "name": "ipython",
    "version": 3
   },
   "file_extension": ".py",
   "mimetype": "text/x-python",
   "name": "python",
   "nbconvert_exporter": "python",
   "pygments_lexer": "ipython3",
   "version": "3.7.1"
  }
 },
 "nbformat": 4,
 "nbformat_minor": 2
}
